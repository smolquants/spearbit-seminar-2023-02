{
 "cells": [
  {
   "cell_type": "code",
   "execution_count": 39,
   "id": "37f926bf",
   "metadata": {},
   "outputs": [],
   "source": [
    "import os\n",
    "import numpy as np\n",
    "import pandas as pd\n",
    "from ape import accounts, chain, Contract, networks, project"
   ]
  },
  {
   "cell_type": "code",
   "execution_count": 16,
   "id": "bb9abf9e",
   "metadata": {},
   "outputs": [
    {
     "data": {
      "text/plain": [
       "<alchemy chain_id=1>"
      ]
     },
     "execution_count": 16,
     "metadata": {},
     "output_type": "execute_result"
    }
   ],
   "source": [
    "# SEE: https://gist.github.com/banteg/dcf6082ff7fc6ad51ce220146f29d9ff\n",
    "networks.parse_network_choice('ethereum:mainnet:alchemy').__enter__()"
   ]
  },
  {
   "cell_type": "code",
   "execution_count": 20,
   "id": "43f14d95",
   "metadata": {},
   "outputs": [
    {
     "data": {
      "text/plain": [
       "Block(num_transactions=148, hash=HexBytes('0x3d92fc5475d17c48a61f43f396adc3feaf460cda6f50aa24d8cc30b98218cec9'), number=16636366, parent_hash=HexBytes('0x106a1670db845c741444d2793af525d49d6b41cd4e5d355a2e66f28f96091ad7'), size=63949, timestamp=1676491019, gas_limit=30000000, gas_used=11507736, base_fee=40873016887, difficulty=0, total_difficulty=58750003716598352816469)"
      ]
     },
     "execution_count": 20,
     "metadata": {},
     "output_type": "execute_result"
    }
   ],
   "source": [
    "chain.blocks.head"
   ]
  },
  {
   "cell_type": "code",
   "execution_count": 23,
   "id": "48a02e59",
   "metadata": {},
   "outputs": [
    {
     "data": {
      "text/plain": [
       "1000000000000000000"
      ]
     },
     "execution_count": 23,
     "metadata": {},
     "output_type": "execute_result"
    }
   ],
   "source": [
    "wad = int(1e18)\n",
    "wad"
   ]
  },
  {
   "cell_type": "code",
   "execution_count": 21,
   "id": "82db459e",
   "metadata": {},
   "outputs": [],
   "source": [
    "tricrypto = Contract(\"0xD51a44d3FaE010294C616388b506AcdA1bfAAE46\")"
   ]
  },
  {
   "cell_type": "code",
   "execution_count": 24,
   "id": "7f291188",
   "metadata": {},
   "outputs": [
    {
     "name": "stdout",
     "output_type": "stream",
     "text": [
      "Prices now: [23562.7627212254, 1624.7742984373592]\n"
     ]
    }
   ],
   "source": [
    "print(f\"Prices now: {[tricrypto.price_oracle(i) / wad for i in range(2)]}\")"
   ]
  },
  {
   "cell_type": "code",
   "execution_count": 42,
   "id": "4e871f1f",
   "metadata": {},
   "outputs": [],
   "source": [
    "# get prices for the last 3 months sampling every 10 min\n",
    "FILENAME = f\"data/prices.csv\""
   ]
  },
  {
   "cell_type": "code",
   "execution_count": 41,
   "id": "0eb5d3cb",
   "metadata": {},
   "outputs": [],
   "source": [
    "start_block = 15988366\n",
    "if os.path.exists(FILENAME):\n",
    "    df = pd.read_csv(FILENAME)\n",
    "    last_block = df['block_number'].iloc[len(df)-1]\n",
    "    start_block = last_block + 50"
   ]
  },
  {
   "cell_type": "code",
   "execution_count": null,
   "id": "edd2f433",
   "metadata": {},
   "outputs": [
    {
     "name": "stdout",
     "output_type": "stream",
     "text": [
      "Processing block 16081416 ...\r"
     ]
    }
   ],
   "source": [
    "blocks = range(start_block, 16636366, 50)  # 3 months ago to now with step of 50 blocks (~ 10 min)\n",
    "is_head = True\n",
    "\n",
    "for block in blocks:\n",
    "    print(f\"Processing block {block} ...\", end='\\r')\n",
    "\n",
    "    # get the prices from tricrypto oracle at block\n",
    "    prices = [tricrypto.price_oracle(i, block_identifier=block) / wad for i in range(2)]\n",
    "    data = {'block_number': [block], 'price0': [prices[0]], 'price1': [prices[1]]}\n",
    "    \n",
    "    # convert to pd dataframe then append to filename\n",
    "    df = pd.DataFrame(data=data)\n",
    "    df.to_csv(FILENAME, mode='a', index=False, header=is_head)\n",
    "    \n",
    "    if is_head:\n",
    "        is_head = False"
   ]
  },
  {
   "cell_type": "code",
   "execution_count": null,
   "id": "eaeb397c",
   "metadata": {},
   "outputs": [],
   "source": []
  }
 ],
 "metadata": {
  "kernelspec": {
   "display_name": "Python 3 (ipykernel)",
   "language": "python",
   "name": "python3"
  },
  "language_info": {
   "codemirror_mode": {
    "name": "ipython",
    "version": 3
   },
   "file_extension": ".py",
   "mimetype": "text/x-python",
   "name": "python",
   "nbconvert_exporter": "python",
   "pygments_lexer": "ipython3",
   "version": "3.9.6"
  }
 },
 "nbformat": 4,
 "nbformat_minor": 5
}
